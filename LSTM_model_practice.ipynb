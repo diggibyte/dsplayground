{
  "nbformat": 4,
  "nbformat_minor": 0,
  "metadata": {
    "colab": {
      "provenance": [],
      "authorship_tag": "ABX9TyNzArpdadUMrVwEx/lNdqC2",
      "include_colab_link": true
    },
    "kernelspec": {
      "name": "python3",
      "display_name": "Python 3"
    },
    "language_info": {
      "name": "python"
    },
    "accelerator": "GPU"
  },
  "cells": [
    {
      "cell_type": "markdown",
      "metadata": {
        "id": "view-in-github",
        "colab_type": "text"
      },
      "source": [
        "<a href=\"https://colab.research.google.com/github/diggibyte/dsplayground/blob/main/LSTM_model_practice.ipynb\" target=\"_parent\"><img src=\"https://colab.research.google.com/assets/colab-badge.svg\" alt=\"Open In Colab\"/></a>"
      ]
    },
    {
      "cell_type": "code",
      "execution_count": 2,
      "metadata": {
        "colab": {
          "base_uri": "https://localhost:8080/"
        },
        "id": "bcBnymtM9LC0",
        "outputId": "edca8200-b639-4446-ff59-fca96e2865e8"
      },
      "outputs": [
        {
          "output_type": "stream",
          "name": "stdout",
          "text": [
            "Looking in indexes: https://pypi.org/simple, https://us-python.pkg.dev/colab-wheels/public/simple/\n",
            "Requirement already satisfied: tensorflow in /usr/local/lib/python3.7/dist-packages (2.8.2+zzzcolab20220719082949)\n",
            "Requirement already satisfied: protobuf<3.20,>=3.9.2 in /usr/local/lib/python3.7/dist-packages (from tensorflow) (3.17.3)\n",
            "Requirement already satisfied: numpy>=1.20 in /usr/local/lib/python3.7/dist-packages (from tensorflow) (1.21.6)\n",
            "Requirement already satisfied: astunparse>=1.6.0 in /usr/local/lib/python3.7/dist-packages (from tensorflow) (1.6.3)\n",
            "Requirement already satisfied: tensorflow-estimator<2.9,>=2.8 in /usr/local/lib/python3.7/dist-packages (from tensorflow) (2.8.0)\n",
            "Requirement already satisfied: opt-einsum>=2.3.2 in /usr/local/lib/python3.7/dist-packages (from tensorflow) (3.3.0)\n",
            "Requirement already satisfied: flatbuffers>=1.12 in /usr/local/lib/python3.7/dist-packages (from tensorflow) (2.0.7)\n",
            "Requirement already satisfied: keras-preprocessing>=1.1.1 in /usr/local/lib/python3.7/dist-packages (from tensorflow) (1.1.2)\n",
            "Requirement already satisfied: termcolor>=1.1.0 in /usr/local/lib/python3.7/dist-packages (from tensorflow) (1.1.0)\n",
            "Requirement already satisfied: absl-py>=0.4.0 in /usr/local/lib/python3.7/dist-packages (from tensorflow) (1.2.0)\n",
            "Requirement already satisfied: h5py>=2.9.0 in /usr/local/lib/python3.7/dist-packages (from tensorflow) (3.1.0)\n",
            "Requirement already satisfied: tensorboard<2.9,>=2.8 in /usr/local/lib/python3.7/dist-packages (from tensorflow) (2.8.0)\n",
            "Requirement already satisfied: tensorflow-io-gcs-filesystem>=0.23.1 in /usr/local/lib/python3.7/dist-packages (from tensorflow) (0.26.0)\n",
            "Requirement already satisfied: gast>=0.2.1 in /usr/local/lib/python3.7/dist-packages (from tensorflow) (0.5.3)\n",
            "Requirement already satisfied: grpcio<2.0,>=1.24.3 in /usr/local/lib/python3.7/dist-packages (from tensorflow) (1.48.1)\n",
            "Requirement already satisfied: keras<2.9,>=2.8.0rc0 in /usr/local/lib/python3.7/dist-packages (from tensorflow) (2.8.0)\n",
            "Requirement already satisfied: google-pasta>=0.1.1 in /usr/local/lib/python3.7/dist-packages (from tensorflow) (0.2.0)\n",
            "Requirement already satisfied: setuptools in /usr/local/lib/python3.7/dist-packages (from tensorflow) (57.4.0)\n",
            "Requirement already satisfied: six>=1.12.0 in /usr/local/lib/python3.7/dist-packages (from tensorflow) (1.15.0)\n",
            "Requirement already satisfied: libclang>=9.0.1 in /usr/local/lib/python3.7/dist-packages (from tensorflow) (14.0.6)\n",
            "Requirement already satisfied: typing-extensions>=3.6.6 in /usr/local/lib/python3.7/dist-packages (from tensorflow) (4.1.1)\n",
            "Requirement already satisfied: wrapt>=1.11.0 in /usr/local/lib/python3.7/dist-packages (from tensorflow) (1.14.1)\n",
            "Requirement already satisfied: wheel<1.0,>=0.23.0 in /usr/local/lib/python3.7/dist-packages (from astunparse>=1.6.0->tensorflow) (0.37.1)\n",
            "Requirement already satisfied: cached-property in /usr/local/lib/python3.7/dist-packages (from h5py>=2.9.0->tensorflow) (1.5.2)\n",
            "Requirement already satisfied: tensorboard-plugin-wit>=1.6.0 in /usr/local/lib/python3.7/dist-packages (from tensorboard<2.9,>=2.8->tensorflow) (1.8.1)\n",
            "Requirement already satisfied: requests<3,>=2.21.0 in /usr/local/lib/python3.7/dist-packages (from tensorboard<2.9,>=2.8->tensorflow) (2.23.0)\n",
            "Requirement already satisfied: tensorboard-data-server<0.7.0,>=0.6.0 in /usr/local/lib/python3.7/dist-packages (from tensorboard<2.9,>=2.8->tensorflow) (0.6.1)\n",
            "Requirement already satisfied: markdown>=2.6.8 in /usr/local/lib/python3.7/dist-packages (from tensorboard<2.9,>=2.8->tensorflow) (3.4.1)\n",
            "Requirement already satisfied: google-auth-oauthlib<0.5,>=0.4.1 in /usr/local/lib/python3.7/dist-packages (from tensorboard<2.9,>=2.8->tensorflow) (0.4.6)\n",
            "Requirement already satisfied: werkzeug>=0.11.15 in /usr/local/lib/python3.7/dist-packages (from tensorboard<2.9,>=2.8->tensorflow) (1.0.1)\n",
            "Requirement already satisfied: google-auth<3,>=1.6.3 in /usr/local/lib/python3.7/dist-packages (from tensorboard<2.9,>=2.8->tensorflow) (1.35.0)\n",
            "Requirement already satisfied: pyasn1-modules>=0.2.1 in /usr/local/lib/python3.7/dist-packages (from google-auth<3,>=1.6.3->tensorboard<2.9,>=2.8->tensorflow) (0.2.8)\n",
            "Requirement already satisfied: rsa<5,>=3.1.4 in /usr/local/lib/python3.7/dist-packages (from google-auth<3,>=1.6.3->tensorboard<2.9,>=2.8->tensorflow) (4.9)\n",
            "Requirement already satisfied: cachetools<5.0,>=2.0.0 in /usr/local/lib/python3.7/dist-packages (from google-auth<3,>=1.6.3->tensorboard<2.9,>=2.8->tensorflow) (4.2.4)\n",
            "Requirement already satisfied: requests-oauthlib>=0.7.0 in /usr/local/lib/python3.7/dist-packages (from google-auth-oauthlib<0.5,>=0.4.1->tensorboard<2.9,>=2.8->tensorflow) (1.3.1)\n",
            "Requirement already satisfied: importlib-metadata>=4.4 in /usr/local/lib/python3.7/dist-packages (from markdown>=2.6.8->tensorboard<2.9,>=2.8->tensorflow) (4.12.0)\n",
            "Requirement already satisfied: zipp>=0.5 in /usr/local/lib/python3.7/dist-packages (from importlib-metadata>=4.4->markdown>=2.6.8->tensorboard<2.9,>=2.8->tensorflow) (3.8.1)\n",
            "Requirement already satisfied: pyasn1<0.5.0,>=0.4.6 in /usr/local/lib/python3.7/dist-packages (from pyasn1-modules>=0.2.1->google-auth<3,>=1.6.3->tensorboard<2.9,>=2.8->tensorflow) (0.4.8)\n",
            "Requirement already satisfied: chardet<4,>=3.0.2 in /usr/local/lib/python3.7/dist-packages (from requests<3,>=2.21.0->tensorboard<2.9,>=2.8->tensorflow) (3.0.4)\n",
            "Requirement already satisfied: certifi>=2017.4.17 in /usr/local/lib/python3.7/dist-packages (from requests<3,>=2.21.0->tensorboard<2.9,>=2.8->tensorflow) (2022.6.15)\n",
            "Requirement already satisfied: urllib3!=1.25.0,!=1.25.1,<1.26,>=1.21.1 in /usr/local/lib/python3.7/dist-packages (from requests<3,>=2.21.0->tensorboard<2.9,>=2.8->tensorflow) (1.24.3)\n",
            "Requirement already satisfied: idna<3,>=2.5 in /usr/local/lib/python3.7/dist-packages (from requests<3,>=2.21.0->tensorboard<2.9,>=2.8->tensorflow) (2.10)\n",
            "Requirement already satisfied: oauthlib>=3.0.0 in /usr/local/lib/python3.7/dist-packages (from requests-oauthlib>=0.7.0->google-auth-oauthlib<0.5,>=0.4.1->tensorboard<2.9,>=2.8->tensorflow) (3.2.0)\n"
          ]
        }
      ],
      "source": [
        "pip install tensorflow"
      ]
    },
    {
      "cell_type": "code",
      "source": [
        "import numpy as np\n",
        "from tensorflow.keras.models import Sequential\n",
        "from tensorflow.keras.layers import LSTM\n",
        "from tensorflow.keras.layers import Dense\n",
        "from tensorflow.keras.layers import Flatten "
      ],
      "metadata": {
        "id": "gluxV7fu9ooX"
      },
      "execution_count": 3,
      "outputs": []
    },
    {
      "cell_type": "code",
      "source": [
        "#preparing independent and dependent features\n",
        "def prepare_data(timeseries_data, n_features):\n",
        "  X,y = [],[]\n",
        "  for i in range(len(timeseries_data)):\n",
        "    #find the end of this pattern\n",
        "    end_ix =i + n_features\n",
        "    #check if we are beyond the sequence\n",
        "    if end_ix > len(timeseries_data)-1:\n",
        "      break\n",
        "    #gather input and output parts of the pattern\n",
        "    seq_x,seq_y = timeseries_data[i:end_ix], timeseries_data[end_ix]\n",
        "    X.append(seq_x)\n",
        "    y.append(seq_y)\n",
        "  return np.array(X), np.array(y)\n",
        "\n"
      ],
      "metadata": {
        "id": "ufTYZQxW9v0l"
      },
      "execution_count": 4,
      "outputs": []
    },
    {
      "cell_type": "code",
      "source": [
        "#define input sequence\n",
        "timeseries_data = [110,125,133,146,158,172,187,196,210]\n",
        "#choose number of time steps\n",
        "n_steps = 3\n",
        "#split into samples\n",
        "X,y = prepare_data(timeseries_data, n_steps)\n"
      ],
      "metadata": {
        "id": "ZwOl_1K1I5kt"
      },
      "execution_count": 5,
      "outputs": []
    },
    {
      "cell_type": "code",
      "source": [
        "print(X),print(y)"
      ],
      "metadata": {
        "colab": {
          "base_uri": "https://localhost:8080/"
        },
        "id": "RxafR6dxJ400",
        "outputId": "05e73027-d5d9-41df-b63d-7e402f213cd9"
      },
      "execution_count": 6,
      "outputs": [
        {
          "output_type": "stream",
          "name": "stdout",
          "text": [
            "[[110 125 133]\n",
            " [125 133 146]\n",
            " [133 146 158]\n",
            " [146 158 172]\n",
            " [158 172 187]\n",
            " [172 187 196]]\n",
            "[146 158 172 187 196 210]\n"
          ]
        },
        {
          "output_type": "execute_result",
          "data": {
            "text/plain": [
              "(None, None)"
            ]
          },
          "metadata": {},
          "execution_count": 6
        }
      ]
    },
    {
      "cell_type": "code",
      "source": [
        "#reshape from [samples,timesteps] to [samples,timesteps, features]\n",
        "n_features= 1\n",
        "X = X.reshape((X.shape[0],X.shape[1],n_features))"
      ],
      "metadata": {
        "id": "WcTILZizKWnJ"
      },
      "execution_count": 7,
      "outputs": []
    },
    {
      "cell_type": "code",
      "source": [
        "# Building LSTM Model\n"
      ],
      "metadata": {
        "id": "WcHpoJaJKzM5"
      },
      "execution_count": 8,
      "outputs": []
    },
    {
      "cell_type": "code",
      "source": [
        "#define model\n",
        "model = Sequential()\n",
        "model.add(LSTM(50, activation = 'relu', return_sequences = True, input_shape =(n_steps, n_features)))\n",
        "model.add(LSTM(50,activation = 'relu'))\n",
        "model.add(Dense(1))\n",
        "model.compile(optimizer ='adam',loss ='mse')"
      ],
      "metadata": {
        "colab": {
          "base_uri": "https://localhost:8080/"
        },
        "id": "SlE8YzrOK9Zi",
        "outputId": "973ea3cd-5a4f-4a57-ac0f-d0d36d557e34"
      },
      "execution_count": 9,
      "outputs": [
        {
          "output_type": "stream",
          "name": "stderr",
          "text": [
            "WARNING:tensorflow:Layer lstm will not use cuDNN kernels since it doesn't meet the criteria. It will use a generic GPU kernel as fallback when running on GPU.\n",
            "WARNING:tensorflow:Layer lstm_1 will not use cuDNN kernels since it doesn't meet the criteria. It will use a generic GPU kernel as fallback when running on GPU.\n"
          ]
        }
      ]
    },
    {
      "cell_type": "code",
      "source": [
        "#fit model\n",
        "model.fit(X,y, epochs = 300, verbose = 1)"
      ],
      "metadata": {
        "colab": {
          "base_uri": "https://localhost:8080/"
        },
        "id": "n_CPoPpCMFFJ",
        "outputId": "8cb07ebc-8a4d-410c-9904-1c6e018752d1"
      },
      "execution_count": 10,
      "outputs": [
        {
          "output_type": "stream",
          "name": "stdout",
          "text": [
            "Epoch 1/300\n",
            "1/1 [==============================] - 5s 5s/step - loss: 32124.9688\n",
            "Epoch 2/300\n",
            "1/1 [==============================] - 0s 27ms/step - loss: 31818.8906\n",
            "Epoch 3/300\n",
            "1/1 [==============================] - 0s 22ms/step - loss: 31496.5469\n",
            "Epoch 4/300\n",
            "1/1 [==============================] - 0s 28ms/step - loss: 31166.6582\n",
            "Epoch 5/300\n",
            "1/1 [==============================] - 0s 23ms/step - loss: 30846.1660\n",
            "Epoch 6/300\n",
            "1/1 [==============================] - 0s 32ms/step - loss: 30505.5938\n",
            "Epoch 7/300\n",
            "1/1 [==============================] - 0s 23ms/step - loss: 30100.6406\n",
            "Epoch 8/300\n",
            "1/1 [==============================] - 0s 40ms/step - loss: 29602.9785\n",
            "Epoch 9/300\n",
            "1/1 [==============================] - 0s 29ms/step - loss: 29032.6719\n",
            "Epoch 10/300\n",
            "1/1 [==============================] - 0s 34ms/step - loss: 28361.0723\n",
            "Epoch 11/300\n",
            "1/1 [==============================] - 0s 33ms/step - loss: 27602.3809\n",
            "Epoch 12/300\n",
            "1/1 [==============================] - 0s 43ms/step - loss: 26774.7656\n",
            "Epoch 13/300\n",
            "1/1 [==============================] - 0s 42ms/step - loss: 25903.0918\n",
            "Epoch 14/300\n",
            "1/1 [==============================] - 0s 52ms/step - loss: 25009.0918\n",
            "Epoch 15/300\n",
            "1/1 [==============================] - 0s 45ms/step - loss: 24099.3184\n",
            "Epoch 16/300\n",
            "1/1 [==============================] - 0s 47ms/step - loss: 23169.9062\n",
            "Epoch 17/300\n",
            "1/1 [==============================] - 0s 37ms/step - loss: 22227.3594\n",
            "Epoch 18/300\n",
            "1/1 [==============================] - 0s 21ms/step - loss: 21259.3379\n",
            "Epoch 19/300\n",
            "1/1 [==============================] - 0s 27ms/step - loss: 20264.8770\n",
            "Epoch 20/300\n",
            "1/1 [==============================] - 0s 21ms/step - loss: 19254.4160\n",
            "Epoch 21/300\n",
            "1/1 [==============================] - 0s 23ms/step - loss: 18235.5469\n",
            "Epoch 22/300\n",
            "1/1 [==============================] - 0s 22ms/step - loss: 17207.3203\n",
            "Epoch 23/300\n",
            "1/1 [==============================] - 0s 29ms/step - loss: 16157.7080\n",
            "Epoch 24/300\n",
            "1/1 [==============================] - 0s 23ms/step - loss: 15064.7393\n",
            "Epoch 25/300\n",
            "1/1 [==============================] - 0s 24ms/step - loss: 13903.3779\n",
            "Epoch 26/300\n",
            "1/1 [==============================] - 0s 21ms/step - loss: 12655.1826\n",
            "Epoch 27/300\n",
            "1/1 [==============================] - 0s 27ms/step - loss: 11310.8584\n",
            "Epoch 28/300\n",
            "1/1 [==============================] - 0s 28ms/step - loss: 9864.5752\n",
            "Epoch 29/300\n",
            "1/1 [==============================] - 0s 29ms/step - loss: 8322.3916\n",
            "Epoch 30/300\n",
            "1/1 [==============================] - 0s 28ms/step - loss: 6690.3672\n",
            "Epoch 31/300\n",
            "1/1 [==============================] - 0s 26ms/step - loss: 4974.2871\n",
            "Epoch 32/300\n",
            "1/1 [==============================] - 0s 28ms/step - loss: 3324.2217\n",
            "Epoch 33/300\n",
            "1/1 [==============================] - 0s 23ms/step - loss: 1967.6235\n",
            "Epoch 34/300\n",
            "1/1 [==============================] - 0s 24ms/step - loss: 904.3776\n",
            "Epoch 35/300\n",
            "1/1 [==============================] - 0s 22ms/step - loss: 142.2042\n",
            "Epoch 36/300\n",
            "1/1 [==============================] - 0s 23ms/step - loss: 115.2032\n",
            "Epoch 37/300\n",
            "1/1 [==============================] - 0s 21ms/step - loss: 675.8150\n",
            "Epoch 38/300\n",
            "1/1 [==============================] - 0s 24ms/step - loss: 1156.1185\n",
            "Epoch 39/300\n",
            "1/1 [==============================] - 0s 26ms/step - loss: 1304.1669\n",
            "Epoch 40/300\n",
            "1/1 [==============================] - 0s 26ms/step - loss: 1148.0796\n",
            "Epoch 41/300\n",
            "1/1 [==============================] - 0s 20ms/step - loss: 902.1555\n",
            "Epoch 42/300\n",
            "1/1 [==============================] - 0s 21ms/step - loss: 700.6330\n",
            "Epoch 43/300\n",
            "1/1 [==============================] - 0s 24ms/step - loss: 461.6623\n",
            "Epoch 44/300\n",
            "1/1 [==============================] - 0s 25ms/step - loss: 253.7830\n",
            "Epoch 45/300\n",
            "1/1 [==============================] - 0s 24ms/step - loss: 105.3852\n",
            "Epoch 46/300\n",
            "1/1 [==============================] - 0s 28ms/step - loss: 32.3615\n",
            "Epoch 47/300\n",
            "1/1 [==============================] - 0s 27ms/step - loss: 13.3114\n",
            "Epoch 48/300\n",
            "1/1 [==============================] - 0s 25ms/step - loss: 21.4279\n",
            "Epoch 49/300\n",
            "1/1 [==============================] - 0s 28ms/step - loss: 41.5666\n",
            "Epoch 50/300\n",
            "1/1 [==============================] - 0s 25ms/step - loss: 65.2788\n",
            "Epoch 51/300\n",
            "1/1 [==============================] - 0s 22ms/step - loss: 87.4011\n",
            "Epoch 52/300\n",
            "1/1 [==============================] - 0s 22ms/step - loss: 104.7609\n",
            "Epoch 53/300\n",
            "1/1 [==============================] - 0s 26ms/step - loss: 115.6395\n",
            "Epoch 54/300\n",
            "1/1 [==============================] - 0s 24ms/step - loss: 119.4774\n",
            "Epoch 55/300\n",
            "1/1 [==============================] - 0s 20ms/step - loss: 116.6424\n",
            "Epoch 56/300\n",
            "1/1 [==============================] - 0s 29ms/step - loss: 108.1769\n",
            "Epoch 57/300\n",
            "1/1 [==============================] - 0s 20ms/step - loss: 95.5691\n",
            "Epoch 58/300\n",
            "1/1 [==============================] - 0s 21ms/step - loss: 80.5315\n",
            "Epoch 59/300\n",
            "1/1 [==============================] - 0s 23ms/step - loss: 64.7996\n",
            "Epoch 60/300\n",
            "1/1 [==============================] - 0s 25ms/step - loss: 49.9504\n",
            "Epoch 61/300\n",
            "1/1 [==============================] - 0s 28ms/step - loss: 37.2577\n",
            "Epoch 62/300\n",
            "1/1 [==============================] - 0s 19ms/step - loss: 27.5926\n",
            "Epoch 63/300\n",
            "1/1 [==============================] - 0s 30ms/step - loss: 21.3709\n",
            "Epoch 64/300\n",
            "1/1 [==============================] - 0s 29ms/step - loss: 18.5551\n",
            "Epoch 65/300\n",
            "1/1 [==============================] - 0s 21ms/step - loss: 18.7079\n",
            "Epoch 66/300\n",
            "1/1 [==============================] - 0s 19ms/step - loss: 21.0909\n",
            "Epoch 67/300\n",
            "1/1 [==============================] - 0s 22ms/step - loss: 24.7965\n",
            "Epoch 68/300\n",
            "1/1 [==============================] - 0s 23ms/step - loss: 28.8894\n",
            "Epoch 69/300\n",
            "1/1 [==============================] - 0s 26ms/step - loss: 32.5409\n",
            "Epoch 70/300\n",
            "1/1 [==============================] - 0s 22ms/step - loss: 35.1331\n",
            "Epoch 71/300\n",
            "1/1 [==============================] - 0s 35ms/step - loss: 36.3167\n",
            "Epoch 72/300\n",
            "1/1 [==============================] - 0s 22ms/step - loss: 36.0222\n",
            "Epoch 73/300\n",
            "1/1 [==============================] - 0s 31ms/step - loss: 34.4234\n",
            "Epoch 74/300\n",
            "1/1 [==============================] - 0s 24ms/step - loss: 31.8689\n",
            "Epoch 75/300\n",
            "1/1 [==============================] - 0s 27ms/step - loss: 28.7984\n",
            "Epoch 76/300\n",
            "1/1 [==============================] - 0s 26ms/step - loss: 25.6572\n",
            "Epoch 77/300\n",
            "1/1 [==============================] - 0s 23ms/step - loss: 22.8286\n",
            "Epoch 78/300\n",
            "1/1 [==============================] - 0s 22ms/step - loss: 20.5864\n",
            "Epoch 79/300\n",
            "1/1 [==============================] - 0s 32ms/step - loss: 19.0747\n",
            "Epoch 80/300\n",
            "1/1 [==============================] - 0s 25ms/step - loss: 18.3110\n",
            "Epoch 81/300\n",
            "1/1 [==============================] - 0s 24ms/step - loss: 18.2063\n",
            "Epoch 82/300\n",
            "1/1 [==============================] - 0s 40ms/step - loss: 18.5984\n",
            "Epoch 83/300\n",
            "1/1 [==============================] - 0s 27ms/step - loss: 19.2885\n",
            "Epoch 84/300\n",
            "1/1 [==============================] - 0s 23ms/step - loss: 20.0759\n",
            "Epoch 85/300\n",
            "1/1 [==============================] - 0s 24ms/step - loss: 20.7865\n",
            "Epoch 86/300\n",
            "1/1 [==============================] - 0s 22ms/step - loss: 21.2928\n",
            "Epoch 87/300\n",
            "1/1 [==============================] - 0s 21ms/step - loss: 21.5226\n",
            "Epoch 88/300\n",
            "1/1 [==============================] - 0s 19ms/step - loss: 21.4603\n",
            "Epoch 89/300\n",
            "1/1 [==============================] - 0s 19ms/step - loss: 21.1373\n",
            "Epoch 90/300\n",
            "1/1 [==============================] - 0s 32ms/step - loss: 20.6215\n",
            "Epoch 91/300\n",
            "1/1 [==============================] - 0s 31ms/step - loss: 19.9991\n",
            "Epoch 92/300\n",
            "1/1 [==============================] - 0s 20ms/step - loss: 19.3595\n",
            "Epoch 93/300\n",
            "1/1 [==============================] - 0s 19ms/step - loss: 18.7821\n",
            "Epoch 94/300\n",
            "1/1 [==============================] - 0s 22ms/step - loss: 18.3243\n",
            "Epoch 95/300\n",
            "1/1 [==============================] - 0s 33ms/step - loss: 18.0180\n",
            "Epoch 96/300\n",
            "1/1 [==============================] - 0s 21ms/step - loss: 17.8670\n",
            "Epoch 97/300\n",
            "1/1 [==============================] - 0s 24ms/step - loss: 17.8518\n",
            "Epoch 98/300\n",
            "1/1 [==============================] - 0s 22ms/step - loss: 17.9360\n",
            "Epoch 99/300\n",
            "1/1 [==============================] - 0s 31ms/step - loss: 18.0745\n",
            "Epoch 100/300\n",
            "1/1 [==============================] - 0s 26ms/step - loss: 18.2218\n",
            "Epoch 101/300\n",
            "1/1 [==============================] - 0s 24ms/step - loss: 18.3401\n",
            "Epoch 102/300\n",
            "1/1 [==============================] - 0s 24ms/step - loss: 18.4032\n",
            "Epoch 103/300\n",
            "1/1 [==============================] - 0s 24ms/step - loss: 18.3992\n",
            "Epoch 104/300\n",
            "1/1 [==============================] - 0s 22ms/step - loss: 18.3297\n",
            "Epoch 105/300\n",
            "1/1 [==============================] - 0s 23ms/step - loss: 18.2073\n",
            "Epoch 106/300\n",
            "1/1 [==============================] - 0s 21ms/step - loss: 18.0508\n",
            "Epoch 107/300\n",
            "1/1 [==============================] - 0s 27ms/step - loss: 17.8807\n",
            "Epoch 108/300\n",
            "1/1 [==============================] - 0s 23ms/step - loss: 17.7144\n",
            "Epoch 109/300\n",
            "1/1 [==============================] - 0s 28ms/step - loss: 17.5618\n",
            "Epoch 110/300\n",
            "1/1 [==============================] - 0s 28ms/step - loss: 17.4224\n",
            "Epoch 111/300\n",
            "1/1 [==============================] - 0s 34ms/step - loss: 17.2828\n",
            "Epoch 112/300\n",
            "1/1 [==============================] - 0s 23ms/step - loss: 17.1182\n",
            "Epoch 113/300\n",
            "1/1 [==============================] - 0s 32ms/step - loss: 16.9050\n",
            "Epoch 114/300\n",
            "1/1 [==============================] - 0s 24ms/step - loss: 16.6920\n",
            "Epoch 115/300\n",
            "1/1 [==============================] - 0s 30ms/step - loss: 16.8157\n",
            "Epoch 116/300\n",
            "1/1 [==============================] - 0s 24ms/step - loss: 16.5767\n",
            "Epoch 117/300\n",
            "1/1 [==============================] - 0s 30ms/step - loss: 16.4039\n",
            "Epoch 118/300\n",
            "1/1 [==============================] - 0s 43ms/step - loss: 16.3856\n",
            "Epoch 119/300\n",
            "1/1 [==============================] - 0s 24ms/step - loss: 16.3477\n",
            "Epoch 120/300\n",
            "1/1 [==============================] - 0s 26ms/step - loss: 16.2018\n",
            "Epoch 121/300\n",
            "1/1 [==============================] - 0s 25ms/step - loss: 15.9817\n",
            "Epoch 122/300\n",
            "1/1 [==============================] - 0s 21ms/step - loss: 15.8551\n",
            "Epoch 123/300\n",
            "1/1 [==============================] - 0s 23ms/step - loss: 15.8244\n",
            "Epoch 124/300\n",
            "1/1 [==============================] - 0s 25ms/step - loss: 15.5796\n",
            "Epoch 125/300\n",
            "1/1 [==============================] - 0s 26ms/step - loss: 15.3837\n",
            "Epoch 126/300\n",
            "1/1 [==============================] - 0s 30ms/step - loss: 15.2755\n",
            "Epoch 127/300\n",
            "1/1 [==============================] - 0s 22ms/step - loss: 15.0771\n",
            "Epoch 128/300\n",
            "1/1 [==============================] - 0s 32ms/step - loss: 14.7782\n",
            "Epoch 129/300\n",
            "1/1 [==============================] - 0s 21ms/step - loss: 14.5247\n",
            "Epoch 130/300\n",
            "1/1 [==============================] - 0s 22ms/step - loss: 14.2548\n",
            "Epoch 131/300\n",
            "1/1 [==============================] - 0s 24ms/step - loss: 13.7903\n",
            "Epoch 132/300\n",
            "1/1 [==============================] - 0s 25ms/step - loss: 13.4574\n",
            "Epoch 133/300\n",
            "1/1 [==============================] - 0s 26ms/step - loss: 13.2448\n",
            "Epoch 134/300\n",
            "1/1 [==============================] - 0s 25ms/step - loss: 13.0839\n",
            "Epoch 135/300\n",
            "1/1 [==============================] - 0s 19ms/step - loss: 12.7899\n",
            "Epoch 136/300\n",
            "1/1 [==============================] - 0s 25ms/step - loss: 12.4194\n",
            "Epoch 137/300\n",
            "1/1 [==============================] - 0s 29ms/step - loss: 11.9570\n",
            "Epoch 138/300\n",
            "1/1 [==============================] - 0s 20ms/step - loss: 11.5472\n",
            "Epoch 139/300\n",
            "1/1 [==============================] - 0s 22ms/step - loss: 11.2136\n",
            "Epoch 140/300\n",
            "1/1 [==============================] - 0s 30ms/step - loss: 10.8211\n",
            "Epoch 141/300\n",
            "1/1 [==============================] - 0s 23ms/step - loss: 10.3689\n",
            "Epoch 142/300\n",
            "1/1 [==============================] - 0s 22ms/step - loss: 9.8501\n",
            "Epoch 143/300\n",
            "1/1 [==============================] - 0s 24ms/step - loss: 9.3176\n",
            "Epoch 144/300\n",
            "1/1 [==============================] - 0s 23ms/step - loss: 8.7522\n",
            "Epoch 145/300\n",
            "1/1 [==============================] - 0s 29ms/step - loss: 8.2211\n",
            "Epoch 146/300\n",
            "1/1 [==============================] - 0s 23ms/step - loss: 7.7268\n",
            "Epoch 147/300\n",
            "1/1 [==============================] - 0s 20ms/step - loss: 7.2656\n",
            "Epoch 148/300\n",
            "1/1 [==============================] - 0s 22ms/step - loss: 6.8206\n",
            "Epoch 149/300\n",
            "1/1 [==============================] - 0s 28ms/step - loss: 6.4000\n",
            "Epoch 150/300\n",
            "1/1 [==============================] - 0s 37ms/step - loss: 6.0319\n",
            "Epoch 151/300\n",
            "1/1 [==============================] - 0s 37ms/step - loss: 5.7340\n",
            "Epoch 152/300\n",
            "1/1 [==============================] - 0s 61ms/step - loss: 5.5015\n",
            "Epoch 153/300\n",
            "1/1 [==============================] - 0s 59ms/step - loss: 5.3145\n",
            "Epoch 154/300\n",
            "1/1 [==============================] - 0s 32ms/step - loss: 5.1608\n",
            "Epoch 155/300\n",
            "1/1 [==============================] - 0s 42ms/step - loss: 5.0408\n",
            "Epoch 156/300\n",
            "1/1 [==============================] - 0s 25ms/step - loss: 4.9369\n",
            "Epoch 157/300\n",
            "1/1 [==============================] - 0s 26ms/step - loss: 4.8544\n",
            "Epoch 158/300\n",
            "1/1 [==============================] - 0s 59ms/step - loss: 4.7907\n",
            "Epoch 159/300\n",
            "1/1 [==============================] - 0s 48ms/step - loss: 4.7394\n",
            "Epoch 160/300\n",
            "1/1 [==============================] - 0s 27ms/step - loss: 4.6991\n",
            "Epoch 161/300\n",
            "1/1 [==============================] - 0s 40ms/step - loss: 4.6645\n",
            "Epoch 162/300\n",
            "1/1 [==============================] - 0s 63ms/step - loss: 4.6347\n",
            "Epoch 163/300\n",
            "1/1 [==============================] - 0s 69ms/step - loss: 4.6089\n",
            "Epoch 164/300\n",
            "1/1 [==============================] - 0s 39ms/step - loss: 4.5867\n",
            "Epoch 165/300\n",
            "1/1 [==============================] - 0s 29ms/step - loss: 4.5740\n",
            "Epoch 166/300\n",
            "1/1 [==============================] - 0s 33ms/step - loss: 4.5993\n",
            "Epoch 167/300\n",
            "1/1 [==============================] - 0s 32ms/step - loss: 4.6936\n",
            "Epoch 168/300\n",
            "1/1 [==============================] - 0s 43ms/step - loss: 4.8265\n",
            "Epoch 169/300\n",
            "1/1 [==============================] - 0s 31ms/step - loss: 4.4914\n",
            "Epoch 170/300\n",
            "1/1 [==============================] - 0s 36ms/step - loss: 4.7698\n",
            "Epoch 171/300\n",
            "1/1 [==============================] - 0s 46ms/step - loss: 4.6251\n",
            "Epoch 172/300\n",
            "1/1 [==============================] - 0s 32ms/step - loss: 4.6087\n",
            "Epoch 173/300\n",
            "1/1 [==============================] - 0s 33ms/step - loss: 4.5566\n",
            "Epoch 174/300\n",
            "1/1 [==============================] - 0s 50ms/step - loss: 4.4984\n",
            "Epoch 175/300\n",
            "1/1 [==============================] - 0s 44ms/step - loss: 4.5103\n",
            "Epoch 176/300\n",
            "1/1 [==============================] - 0s 95ms/step - loss: 4.4773\n",
            "Epoch 177/300\n",
            "1/1 [==============================] - 0s 64ms/step - loss: 4.4288\n",
            "Epoch 178/300\n",
            "1/1 [==============================] - 0s 82ms/step - loss: 4.4405\n",
            "Epoch 179/300\n",
            "1/1 [==============================] - 0s 51ms/step - loss: 4.3810\n",
            "Epoch 180/300\n",
            "1/1 [==============================] - 0s 48ms/step - loss: 4.4180\n",
            "Epoch 181/300\n",
            "1/1 [==============================] - 0s 48ms/step - loss: 4.3253\n",
            "Epoch 182/300\n",
            "1/1 [==============================] - 0s 51ms/step - loss: 4.3917\n",
            "Epoch 183/300\n",
            "1/1 [==============================] - 0s 32ms/step - loss: 4.2966\n",
            "Epoch 184/300\n",
            "1/1 [==============================] - 0s 51ms/step - loss: 4.3520\n",
            "Epoch 185/300\n",
            "1/1 [==============================] - 0s 35ms/step - loss: 4.2787\n",
            "Epoch 186/300\n",
            "1/1 [==============================] - 0s 43ms/step - loss: 4.3126\n",
            "Epoch 187/300\n",
            "1/1 [==============================] - 0s 60ms/step - loss: 4.2658\n",
            "Epoch 188/300\n",
            "1/1 [==============================] - 0s 53ms/step - loss: 4.2721\n",
            "Epoch 189/300\n",
            "1/1 [==============================] - 0s 49ms/step - loss: 4.2595\n",
            "Epoch 190/300\n",
            "1/1 [==============================] - 0s 46ms/step - loss: 4.2360\n",
            "Epoch 191/300\n",
            "1/1 [==============================] - 0s 46ms/step - loss: 4.2469\n",
            "Epoch 192/300\n",
            "1/1 [==============================] - 0s 43ms/step - loss: 4.2120\n",
            "Epoch 193/300\n",
            "1/1 [==============================] - 0s 62ms/step - loss: 4.2283\n",
            "Epoch 194/300\n",
            "1/1 [==============================] - 0s 47ms/step - loss: 4.1948\n",
            "Epoch 195/300\n",
            "1/1 [==============================] - 0s 41ms/step - loss: 4.2065\n",
            "Epoch 196/300\n",
            "1/1 [==============================] - 0s 25ms/step - loss: 4.1822\n",
            "Epoch 197/300\n",
            "1/1 [==============================] - 0s 73ms/step - loss: 4.1829\n",
            "Epoch 198/300\n",
            "1/1 [==============================] - 0s 62ms/step - loss: 4.1715\n",
            "Epoch 199/300\n",
            "1/1 [==============================] - 0s 63ms/step - loss: 4.1608\n",
            "Epoch 200/300\n",
            "1/1 [==============================] - 0s 58ms/step - loss: 4.1586\n",
            "Epoch 201/300\n",
            "1/1 [==============================] - 0s 46ms/step - loss: 4.1423\n",
            "Epoch 202/300\n",
            "1/1 [==============================] - 0s 50ms/step - loss: 4.1436\n",
            "Epoch 203/300\n",
            "1/1 [==============================] - 0s 44ms/step - loss: 4.1260\n",
            "Epoch 204/300\n",
            "1/1 [==============================] - 0s 43ms/step - loss: 4.1271\n",
            "Epoch 205/300\n",
            "1/1 [==============================] - 0s 40ms/step - loss: 4.1115\n",
            "Epoch 206/300\n",
            "1/1 [==============================] - 0s 45ms/step - loss: 4.1096\n",
            "Epoch 207/300\n",
            "1/1 [==============================] - 0s 53ms/step - loss: 4.0977\n",
            "Epoch 208/300\n",
            "1/1 [==============================] - 0s 68ms/step - loss: 4.0924\n",
            "Epoch 209/300\n",
            "1/1 [==============================] - 0s 70ms/step - loss: 4.0835\n",
            "Epoch 210/300\n",
            "1/1 [==============================] - 0s 61ms/step - loss: 4.0758\n",
            "Epoch 211/300\n",
            "1/1 [==============================] - 0s 41ms/step - loss: 4.0692\n",
            "Epoch 212/300\n",
            "1/1 [==============================] - 0s 70ms/step - loss: 4.0597\n",
            "Epoch 213/300\n",
            "1/1 [==============================] - 0s 49ms/step - loss: 4.0544\n",
            "Epoch 214/300\n",
            "1/1 [==============================] - 0s 52ms/step - loss: 4.0444\n",
            "Epoch 215/300\n",
            "1/1 [==============================] - 0s 28ms/step - loss: 4.0394\n",
            "Epoch 216/300\n",
            "1/1 [==============================] - 0s 27ms/step - loss: 4.0294\n",
            "Epoch 217/300\n",
            "1/1 [==============================] - 0s 35ms/step - loss: 4.0243\n",
            "Epoch 218/300\n",
            "1/1 [==============================] - 0s 30ms/step - loss: 4.0147\n",
            "Epoch 219/300\n",
            "1/1 [==============================] - 0s 49ms/step - loss: 4.0093\n",
            "Epoch 220/300\n",
            "1/1 [==============================] - 0s 44ms/step - loss: 4.0001\n",
            "Epoch 221/300\n",
            "1/1 [==============================] - 0s 47ms/step - loss: 3.9944\n",
            "Epoch 222/300\n",
            "1/1 [==============================] - 0s 44ms/step - loss: 3.9857\n",
            "Epoch 223/300\n",
            "1/1 [==============================] - 0s 36ms/step - loss: 3.9797\n",
            "Epoch 224/300\n",
            "1/1 [==============================] - 0s 33ms/step - loss: 3.9713\n",
            "Epoch 225/300\n",
            "1/1 [==============================] - 0s 46ms/step - loss: 3.9652\n",
            "Epoch 226/300\n",
            "1/1 [==============================] - 0s 43ms/step - loss: 3.9571\n",
            "Epoch 227/300\n",
            "1/1 [==============================] - 0s 48ms/step - loss: 3.9508\n",
            "Epoch 228/300\n",
            "1/1 [==============================] - 0s 53ms/step - loss: 3.9429\n",
            "Epoch 229/300\n",
            "1/1 [==============================] - 0s 47ms/step - loss: 3.9366\n",
            "Epoch 230/300\n",
            "1/1 [==============================] - 0s 39ms/step - loss: 3.9289\n",
            "Epoch 231/300\n",
            "1/1 [==============================] - 0s 27ms/step - loss: 3.9225\n",
            "Epoch 232/300\n",
            "1/1 [==============================] - 0s 25ms/step - loss: 3.9149\n",
            "Epoch 233/300\n",
            "1/1 [==============================] - 0s 28ms/step - loss: 3.9085\n",
            "Epoch 234/300\n",
            "1/1 [==============================] - 0s 24ms/step - loss: 3.9011\n",
            "Epoch 235/300\n",
            "1/1 [==============================] - 0s 39ms/step - loss: 3.8946\n",
            "Epoch 236/300\n",
            "1/1 [==============================] - 0s 23ms/step - loss: 3.8874\n",
            "Epoch 237/300\n",
            "1/1 [==============================] - 0s 22ms/step - loss: 3.8808\n",
            "Epoch 238/300\n",
            "1/1 [==============================] - 0s 23ms/step - loss: 3.8738\n",
            "Epoch 239/300\n",
            "1/1 [==============================] - 0s 32ms/step - loss: 3.8672\n",
            "Epoch 240/300\n",
            "1/1 [==============================] - 0s 19ms/step - loss: 3.8602\n",
            "Epoch 241/300\n",
            "1/1 [==============================] - 0s 24ms/step - loss: 3.8537\n",
            "Epoch 242/300\n",
            "1/1 [==============================] - 0s 21ms/step - loss: 3.8469\n",
            "Epoch 243/300\n",
            "1/1 [==============================] - 0s 24ms/step - loss: 3.8403\n",
            "Epoch 244/300\n",
            "1/1 [==============================] - 0s 24ms/step - loss: 3.8336\n",
            "Epoch 245/300\n",
            "1/1 [==============================] - 0s 25ms/step - loss: 3.8269\n",
            "Epoch 246/300\n",
            "1/1 [==============================] - 0s 21ms/step - loss: 3.8204\n",
            "Epoch 247/300\n",
            "1/1 [==============================] - 0s 24ms/step - loss: 3.8138\n",
            "Epoch 248/300\n",
            "1/1 [==============================] - 0s 24ms/step - loss: 3.8073\n",
            "Epoch 249/300\n",
            "1/1 [==============================] - 0s 25ms/step - loss: 3.8007\n",
            "Epoch 250/300\n",
            "1/1 [==============================] - 0s 24ms/step - loss: 3.7944\n",
            "Epoch 251/300\n",
            "1/1 [==============================] - 0s 27ms/step - loss: 3.7878\n",
            "Epoch 252/300\n",
            "1/1 [==============================] - 0s 22ms/step - loss: 3.7815\n",
            "Epoch 253/300\n",
            "1/1 [==============================] - 0s 26ms/step - loss: 3.7750\n",
            "Epoch 254/300\n",
            "1/1 [==============================] - 0s 26ms/step - loss: 3.7687\n",
            "Epoch 255/300\n",
            "1/1 [==============================] - 0s 26ms/step - loss: 3.7624\n",
            "Epoch 256/300\n",
            "1/1 [==============================] - 0s 29ms/step - loss: 3.7561\n",
            "Epoch 257/300\n",
            "1/1 [==============================] - 0s 20ms/step - loss: 3.7498\n",
            "Epoch 258/300\n",
            "1/1 [==============================] - 0s 33ms/step - loss: 3.7436\n",
            "Epoch 259/300\n",
            "1/1 [==============================] - 0s 23ms/step - loss: 3.7374\n",
            "Epoch 260/300\n",
            "1/1 [==============================] - 0s 29ms/step - loss: 3.7312\n",
            "Epoch 261/300\n",
            "1/1 [==============================] - 0s 22ms/step - loss: 3.7251\n",
            "Epoch 262/300\n",
            "1/1 [==============================] - 0s 21ms/step - loss: 3.7189\n",
            "Epoch 263/300\n",
            "1/1 [==============================] - 0s 21ms/step - loss: 3.7128\n",
            "Epoch 264/300\n",
            "1/1 [==============================] - 0s 37ms/step - loss: 3.7068\n",
            "Epoch 265/300\n",
            "1/1 [==============================] - 0s 21ms/step - loss: 3.7007\n",
            "Epoch 266/300\n",
            "1/1 [==============================] - 0s 31ms/step - loss: 3.6947\n",
            "Epoch 267/300\n",
            "1/1 [==============================] - 0s 23ms/step - loss: 3.6887\n",
            "Epoch 268/300\n",
            "1/1 [==============================] - 0s 20ms/step - loss: 3.6828\n",
            "Epoch 269/300\n",
            "1/1 [==============================] - 0s 30ms/step - loss: 3.6768\n",
            "Epoch 270/300\n",
            "1/1 [==============================] - 0s 26ms/step - loss: 3.6709\n",
            "Epoch 271/300\n",
            "1/1 [==============================] - 0s 21ms/step - loss: 3.6651\n",
            "Epoch 272/300\n",
            "1/1 [==============================] - 0s 25ms/step - loss: 3.6592\n",
            "Epoch 273/300\n",
            "1/1 [==============================] - 0s 20ms/step - loss: 3.6534\n",
            "Epoch 274/300\n",
            "1/1 [==============================] - 0s 22ms/step - loss: 3.6476\n",
            "Epoch 275/300\n",
            "1/1 [==============================] - 0s 29ms/step - loss: 3.6419\n",
            "Epoch 276/300\n",
            "1/1 [==============================] - 0s 27ms/step - loss: 3.6361\n",
            "Epoch 277/300\n",
            "1/1 [==============================] - 0s 22ms/step - loss: 3.6304\n",
            "Epoch 278/300\n",
            "1/1 [==============================] - 0s 23ms/step - loss: 3.6247\n",
            "Epoch 279/300\n",
            "1/1 [==============================] - 0s 26ms/step - loss: 3.6191\n",
            "Epoch 280/300\n",
            "1/1 [==============================] - 0s 32ms/step - loss: 3.6135\n",
            "Epoch 281/300\n",
            "1/1 [==============================] - 0s 26ms/step - loss: 3.6079\n",
            "Epoch 282/300\n",
            "1/1 [==============================] - 0s 21ms/step - loss: 3.6023\n",
            "Epoch 283/300\n",
            "1/1 [==============================] - 0s 33ms/step - loss: 3.5967\n",
            "Epoch 284/300\n",
            "1/1 [==============================] - 0s 29ms/step - loss: 3.5913\n",
            "Epoch 285/300\n",
            "1/1 [==============================] - 0s 26ms/step - loss: 3.5858\n",
            "Epoch 286/300\n",
            "1/1 [==============================] - 0s 27ms/step - loss: 3.5803\n",
            "Epoch 287/300\n",
            "1/1 [==============================] - 0s 29ms/step - loss: 3.5749\n",
            "Epoch 288/300\n",
            "1/1 [==============================] - 0s 23ms/step - loss: 3.5694\n",
            "Epoch 289/300\n",
            "1/1 [==============================] - 0s 35ms/step - loss: 3.5641\n",
            "Epoch 290/300\n",
            "1/1 [==============================] - 0s 24ms/step - loss: 3.5587\n",
            "Epoch 291/300\n",
            "1/1 [==============================] - 0s 32ms/step - loss: 3.5534\n",
            "Epoch 292/300\n",
            "1/1 [==============================] - 0s 28ms/step - loss: 3.5481\n",
            "Epoch 293/300\n",
            "1/1 [==============================] - 0s 25ms/step - loss: 3.5428\n",
            "Epoch 294/300\n",
            "1/1 [==============================] - 0s 20ms/step - loss: 3.5376\n",
            "Epoch 295/300\n",
            "1/1 [==============================] - 0s 25ms/step - loss: 3.5324\n",
            "Epoch 296/300\n",
            "1/1 [==============================] - 0s 23ms/step - loss: 3.5271\n",
            "Epoch 297/300\n",
            "1/1 [==============================] - 0s 25ms/step - loss: 3.5220\n",
            "Epoch 298/300\n",
            "1/1 [==============================] - 0s 29ms/step - loss: 3.5169\n",
            "Epoch 299/300\n",
            "1/1 [==============================] - 0s 26ms/step - loss: 3.5118\n",
            "Epoch 300/300\n",
            "1/1 [==============================] - 0s 22ms/step - loss: 3.5067\n"
          ]
        },
        {
          "output_type": "execute_result",
          "data": {
            "text/plain": [
              "<keras.callbacks.History at 0x7f65e0419b50>"
            ]
          },
          "metadata": {},
          "execution_count": 10
        }
      ]
    },
    {
      "cell_type": "code",
      "source": [
        "#Predicting for the next 10 days"
      ],
      "metadata": {
        "id": "9HUttQPSM10w"
      },
      "execution_count": 11,
      "outputs": []
    },
    {
      "cell_type": "code",
      "source": [
        "from array import array"
      ],
      "metadata": {
        "id": "D6MpUnYAOyMp"
      },
      "execution_count": 12,
      "outputs": []
    },
    {
      "cell_type": "code",
      "source": [
        "#demonstrate the prediction for the next 10 days\n",
        "\n",
        "x_input = np.array([187,196,210])\n",
        "temp_input=list(x_input)\n",
        "lst_output=[]\n",
        "i=0\n",
        "while(i<10):\n",
        "    \n",
        "    if(len(temp_input)>3):\n",
        "        x_input=np.array(temp_input[1:])\n",
        "        print(\"{} day input {}\".format(i,x_input))\n",
        "        #print(x_input)\n",
        "        x_input = x_input.reshape((1, n_steps, n_features))\n",
        "        #print(x_input)\n",
        "        yhat = model.predict(x_input, verbose=0)\n",
        "        print(\"{} day output {}\".format(i,yhat))\n",
        "        temp_input.append(yhat[0][0])\n",
        "        temp_input=temp_input[1:]\n",
        "        #print(temp_input)\n",
        "        lst_output.append(yhat[0][0])\n",
        "        i=i+1\n",
        "    else:\n",
        "        x_input = x_input.reshape((1, n_steps, n_features))\n",
        "        yhat = model.predict(x_input, verbose=0)\n",
        "        print(yhat[0])\n",
        "        temp_input.append(yhat[0][0])\n",
        "        lst_output.append(yhat[0][0])\n",
        "        i=i+1\n",
        "    \n",
        "\n",
        "print(lst_output)"
      ],
      "metadata": {
        "colab": {
          "base_uri": "https://localhost:8080/"
        },
        "id": "zFIvQoKjNBFz",
        "outputId": "f510e641-3edf-4f01-aed0-f221c619f93d"
      },
      "execution_count": 13,
      "outputs": [
        {
          "output_type": "stream",
          "name": "stdout",
          "text": [
            "[225.44019]\n",
            "1 day input [196.         210.         225.44018555]\n",
            "1 day output [[237.22713]]\n",
            "2 day input [210.         225.44018555 237.22712708]\n",
            "2 day output [[252.22696]]\n",
            "3 day input [225.44019 237.22713 252.22696]\n",
            "3 day output [[267.78305]]\n",
            "4 day input [237.22713 252.22696 267.78305]\n",
            "4 day output [[281.97754]]\n",
            "5 day input [252.22696 267.78305 281.97754]\n",
            "5 day output [[298.39655]]\n",
            "6 day input [267.78305 281.97754 298.39655]\n",
            "6 day output [[315.26892]]\n",
            "7 day input [281.97754 298.39655 315.26892]\n",
            "7 day output [[331.99454]]\n",
            "8 day input [298.39655 315.26892 331.99454]\n",
            "8 day output [[350.46527]]\n",
            "9 day input [315.26892 331.99454 350.46527]\n",
            "9 day output [[369.5704]]\n",
            "[225.44019, 237.22713, 252.22696, 267.78305, 281.97754, 298.39655, 315.26892, 331.99454, 350.46527, 369.5704]\n"
          ]
        }
      ]
    },
    {
      "cell_type": "code",
      "source": [],
      "metadata": {
        "id": "FRgwV1mJNcX7"
      },
      "execution_count": 13,
      "outputs": []
    },
    {
      "cell_type": "code",
      "source": [
        "timeseries_data"
      ],
      "metadata": {
        "colab": {
          "base_uri": "https://localhost:8080/"
        },
        "id": "-CpT7KkJTwum",
        "outputId": "b5e7b35e-425e-47b1-8a61-46b0285daba5"
      },
      "execution_count": 14,
      "outputs": [
        {
          "output_type": "execute_result",
          "data": {
            "text/plain": [
              "[110, 125, 133, 146, 158, 172, 187, 196, 210]"
            ]
          },
          "metadata": {},
          "execution_count": 14
        }
      ]
    },
    {
      "cell_type": "code",
      "source": [
        "len(timeseries_data)"
      ],
      "metadata": {
        "colab": {
          "base_uri": "https://localhost:8080/"
        },
        "id": "cLwcPCfcUh6O",
        "outputId": "ab121333-4a58-47d6-f437-7f9a763962b0"
      },
      "execution_count": 15,
      "outputs": [
        {
          "output_type": "execute_result",
          "data": {
            "text/plain": [
              "9"
            ]
          },
          "metadata": {},
          "execution_count": 15
        }
      ]
    },
    {
      "cell_type": "code",
      "source": [
        "lst_output"
      ],
      "metadata": {
        "colab": {
          "base_uri": "https://localhost:8080/"
        },
        "id": "Rkfj7lXVUnH6",
        "outputId": "13016ab0-63d7-4ad4-b90b-c0e10f4b10ab"
      },
      "execution_count": 16,
      "outputs": [
        {
          "output_type": "execute_result",
          "data": {
            "text/plain": [
              "[225.44019,\n",
              " 237.22713,\n",
              " 252.22696,\n",
              " 267.78305,\n",
              " 281.97754,\n",
              " 298.39655,\n",
              " 315.26892,\n",
              " 331.99454,\n",
              " 350.46527,\n",
              " 369.5704]"
            ]
          },
          "metadata": {},
          "execution_count": 16
        }
      ]
    },
    {
      "cell_type": "code",
      "source": [
        "#Visualising the output"
      ],
      "metadata": {
        "id": "BT_StkbMUqmr"
      },
      "execution_count": 17,
      "outputs": []
    },
    {
      "cell_type": "code",
      "source": [
        "import matplotlib.pyplot as plt\n",
        "from array import array"
      ],
      "metadata": {
        "id": "SUerxUdCUvFg"
      },
      "execution_count": 18,
      "outputs": []
    },
    {
      "cell_type": "code",
      "source": [
        "day_new = np.arange(1,10)\n",
        "day_pred = np.arange(10,20)\n"
      ],
      "metadata": {
        "id": "57CI4GcYU_nu"
      },
      "execution_count": 19,
      "outputs": []
    },
    {
      "cell_type": "code",
      "source": [
        "plt.plot(day_new,timeseries_data)\n",
        "plt.plot(day_pred,lst_output)"
      ],
      "metadata": {
        "colab": {
          "base_uri": "https://localhost:8080/",
          "height": 282
        },
        "id": "oOMoum3pVO6z",
        "outputId": "9a78367e-7139-4f96-b091-a083e5af0934"
      },
      "execution_count": 20,
      "outputs": [
        {
          "output_type": "execute_result",
          "data": {
            "text/plain": [
              "[<matplotlib.lines.Line2D at 0x7f65ed1de210>]"
            ]
          },
          "metadata": {},
          "execution_count": 20
        },
        {
          "output_type": "display_data",
          "data": {
            "text/plain": [
              "<Figure size 432x288 with 1 Axes>"
            ],
            "image/png": "[encoded data removed]"
          },
          "metadata": {
            "needs_background": "light"
          }
        }
      ]
    },
    {
      "cell_type": "code",
      "source": [],
      "metadata": {
        "id": "MAeZD5whnlEE"
      },
      "execution_count": null,
      "outputs": []
    }
  ]
}